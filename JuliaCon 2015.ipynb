{
 "cells": [
  {
   "cell_type": "markdown",
   "metadata": {
    "slideshow": {
     "slide_type": "slide"
    }
   },
   "source": [
    "# Parallel Julia (internals)\n",
    "```\n",
    "\n",
    "\n",
    "```\n",
    "\n",
    "###### Amit Murthy, @amitmurthy\n",
    "######JuliaCon 2015"
   ]
  },
  {
   "cell_type": "markdown",
   "metadata": {
    "slideshow": {
     "slide_type": "slide"
    }
   },
   "source": [
    "Today's talk\n",
    "- RemoteRefs\n",
    "- addprocs and ClusterManagers\n",
    "- AWS, MessageUtils\n",
    "- MPI ClusterManager"
   ]
  },
  {
   "cell_type": "code",
   "execution_count": null,
   "metadata": {
    "collapsed": true,
    "slideshow": {
     "slide_type": "slide"
    }
   },
   "outputs": [],
   "source": [
    "type RemoteRef\n",
    "    where::Int       # pid where data exists\n",
    "    whence::Int      # pid where this ref was instantiated\n",
    "    id::Int          # one-up identifier. tuple (whence, id) is \n",
    "                     # unique across all processors\n",
    "end\n",
    "\n",
    "Base.PGRP.refs::Dict # Refs whose \"where\" is current pid.\n",
    "                     # (whence, id) -> RemoteValue.\n",
    "\n",
    "Base.client_refs::WeakKeyDict  # single instance/key in local process"
   ]
  },
  {
   "cell_type": "code",
   "execution_count": null,
   "metadata": {
    "collapsed": true,
    "slideshow": {
     "slide_type": "slide"
    }
   },
   "outputs": [],
   "source": [
    "type RemoteValue\n",
    "    done::Bool\n",
    "    result            \n",
    "    full::Condition   # waiting for a value\n",
    "    empty::Condition  # waiting for value to be removed\n",
    "    clientset::IntSet # clients holding a reference to this value \n",
    "    waitingfor::Int   # processor we need to hear from to fill this\n",
    "end\n"
   ]
  },
  {
   "cell_type": "code",
   "execution_count": null,
   "metadata": {
    "collapsed": false,
    "scrolled": true,
    "slideshow": {
     "slide_type": "slide"
    }
   },
   "outputs": [],
   "source": [
    "\n",
    "addprocs(4) # creates workers with pids 2,3...\n",
    "rr = RemoteRef(2) # create a reference on pid 2"
   ]
  },
  {
   "cell_type": "code",
   "execution_count": null,
   "metadata": {
    "collapsed": false,
    "slideshow": {
     "slide_type": "fragment"
    }
   },
   "outputs": [],
   "source": [
    "# See if anything has actually been created on worker 2\n",
    "remotecall_fetch(2, ()->println(keys(Base.PGRP.refs)))"
   ]
  },
  {
   "cell_type": "code",
   "execution_count": null,
   "metadata": {
    "collapsed": false,
    "slideshow": {
     "slide_type": "fragment"
    }
   },
   "outputs": [],
   "source": [
    "# Nope, nothing. Put a value and test again.\n",
    "put!(rr, :OK)\n",
    "remotecall_fetch(2, ()->println(keys(Base.PGRP.refs)))"
   ]
  },
  {
   "cell_type": "code",
   "execution_count": null,
   "metadata": {
    "collapsed": false,
    "slideshow": {
     "slide_type": "fragment"
    }
   },
   "outputs": [],
   "source": [
    "# Lets print the RemoteValue object\n",
    "rrid = (rr.whence, rr.id)\n",
    "remotecall_fetch(2, rrid->println(Base.PGRP.refs[rrid].done), rrid)\n",
    "remotecall_fetch(2, rrid->println(Base.PGRP.refs[rrid].result), rrid)\n",
    "remotecall_fetch(2, rrid->println(Base.PGRP.refs[rrid].clientset), rrid)\n"
   ]
  },
  {
   "cell_type": "code",
   "execution_count": null,
   "metadata": {
    "collapsed": false,
    "slideshow": {
     "slide_type": "fragment"
    }
   },
   "outputs": [],
   "source": [
    "# Lets take that value and see what happens to the RemoteValue store\n",
    "take!(rr)\n",
    "\n",
    "remotecall_fetch(2, rrid->println(Base.PGRP.refs[rrid].done), rrid)\n",
    "remotecall_fetch(2, rrid->println(Base.PGRP.refs[rrid].result), rrid)\n",
    "remotecall_fetch(2, rrid->println(Base.PGRP.refs[rrid].clientset), rrid)"
   ]
  },
  {
   "cell_type": "code",
   "execution_count": null,
   "metadata": {
    "collapsed": false,
    "slideshow": {
     "slide_type": "fragment"
    }
   },
   "outputs": [],
   "source": [
    "# Lets send the refernce to a different worker and see what happens\n",
    "Base.remote_do(3, x->put!(x, :FROM_3), rr)\n",
    "\n",
    "remotecall_fetch(2, rrid->println(Base.PGRP.refs[rrid].done), rrid)\n",
    "remotecall_fetch(2, rrid->println(Base.PGRP.refs[rrid].result), rrid)\n",
    "remotecall_fetch(2, rrid->println(Base.PGRP.refs[rrid].clientset), rrid)"
   ]
  },
  {
   "cell_type": "code",
   "execution_count": null,
   "metadata": {
    "collapsed": false,
    "slideshow": {
     "slide_type": "fragment"
    }
   },
   "outputs": [],
   "source": [
    "remotecall_fetch(2, rrid->println(Base.PGRP.refs[rrid].done), rrid)\n",
    "remotecall_fetch(2, rrid->println(Base.PGRP.refs[rrid].result), rrid)\n",
    "remotecall_fetch(2, rrid->println(Base.PGRP.refs[rrid].clientset), rrid)\n"
   ]
  },
  {
   "cell_type": "code",
   "execution_count": null,
   "metadata": {
    "collapsed": false,
    "slideshow": {
     "slide_type": "fragment"
    }
   },
   "outputs": [],
   "source": [
    "take!(rr)"
   ]
  },
  {
   "cell_type": "code",
   "execution_count": null,
   "metadata": {
    "collapsed": false,
    "slideshow": {
     "slide_type": "skip"
    }
   },
   "outputs": [],
   "source": [
    "k1 = collect(keys(Base.PGRP.refs))\n",
    "@schedule (remotecall_fetch(2, x->take!(x), rr); println(\"DONE!\"))\n",
    "k1"
   ]
  },
  {
   "cell_type": "code",
   "execution_count": null,
   "metadata": {
    "collapsed": false,
    "slideshow": {
     "slide_type": "skip"
    }
   },
   "outputs": [],
   "source": [
    "k2 = collect(keys(Base.PGRP.refs))\n",
    "new_rrid = setdiff(k2, k1)[1]\n",
    "println(k2)\n",
    "println(Base.PGRP.refs[new_rrid].waitingfor)"
   ]
  },
  {
   "cell_type": "code",
   "execution_count": null,
   "metadata": {
    "collapsed": false,
    "slideshow": {
     "slide_type": "skip"
    }
   },
   "outputs": [],
   "source": [
    "put!(rr, :OK)"
   ]
  },
  {
   "cell_type": "code",
   "execution_count": null,
   "metadata": {
    "collapsed": false,
    "slideshow": {
     "slide_type": "skip"
    }
   },
   "outputs": [],
   "source": [
    "keys(Base.PGRP.refs)"
   ]
  },
  {
   "cell_type": "markdown",
   "metadata": {
    "slideshow": {
     "slide_type": "slide"
    }
   },
   "source": [
    "###API\n",
    "- execute tasks in parallel in current process \n",
    "    - `@async`, `@sync`\n",
    "\n",
    "- remote function execution \n",
    "    - `remotecall`, `remotecall_fetch`, etc\n",
    "        - not message passing\n",
    "    \n",
    "- execute expressions remotely \n",
    "    - `@spawn`, `@spawnat`, `@everywhere` etc\n"
   ]
  },
  {
   "cell_type": "code",
   "execution_count": null,
   "metadata": {
    "collapsed": false,
    "slideshow": {
     "slide_type": "slide"
    }
   },
   "outputs": [],
   "source": [
    "@sync begin\n",
    "    for (idx,p) in enumerate(workers())\n",
    "        @async begin\n",
    "            remotecall_wait(p, idx->sleep(idx*2), idx)\n",
    "            println(\"Executed on worker $p in task \", current_task())\n",
    "        end\n",
    "    end\n",
    "    spawns = task_local_storage()[:SPAWNS] \n",
    "    for t in spawns[1]   \n",
    "        println(t)\n",
    "    end\n",
    "end\n",
    "println(\"SPAWNS : \", task_local_storage()[:SPAWNS])\n"
   ]
  },
  {
   "cell_type": "markdown",
   "metadata": {
    "slideshow": {
     "slide_type": "slide"
    }
   },
   "source": [
    "- `addprocs`\n",
    "    - launches workers\n",
    "    - connects all workers to each other\n",
    "        - 1000 workers -> 500K connections\n",
    "    - support other topologies\n",
    "    - route messages via intermediate nodes\n",
    "    - optimize `@everywhere`\n"
   ]
  },
  {
   "cell_type": "markdown",
   "metadata": {
    "slideshow": {
     "slide_type": "slide"
    }
   },
   "source": [
    "adding workers\n",
    "----------------\n",
    "- adding a worker\n",
    "    - launch a julia process\n",
    "    - listen on a free port, print (host,port) \n",
    "    - connect master to new worker\n",
    "    - connect the new julia worker to existing workers\n",
    "\n",
    "- `launch` and (optionally) `connect` is implemented by a ClusterManager\n",
    "\n",
    "- adding a 1000 workers can be slow!\n",
    "    - perform launch and connections in parallel\n",
    "    - given a node, detect and launch as many workers as cores\n"
   ]
  },
  {
   "cell_type": "code",
   "execution_count": null,
   "metadata": {
    "collapsed": true,
    "slideshow": {
     "slide_type": "slide"
    }
   },
   "outputs": [],
   "source": [
    "Cluster Manager\n",
    "--------------\n",
    "\n",
    "Required\n",
    "- `launch(m::ClusterManager, params::Dict, wrkrs::Array, c::Condition)`\n",
    "- `manage(m::ClusterManager, id, cfg::WorkerConfig, op)`\n",
    "\n",
    "Optional\n",
    "- `connect(m::ClusterManager, pid::Int, cfg::WorkerConfig)`\n",
    "- `kill(m::ClusterManager, pid::Int, cfg::WorkerConfig)`"
   ]
  },
  {
   "cell_type": "code",
   "execution_count": null,
   "metadata": {
    "collapsed": false,
    "slideshow": {
     "slide_type": "fragment"
    }
   },
   "outputs": [],
   "source": [
    "# Lets look at a ClusterManager using unix domain sockets\n",
    "type UnixDomainCM <: ClusterManager\n",
    "    np::Integer\n",
    "end\n",
    "\n",
    "function Base.launch(manager::UnixDomainCM, params::Dict, launched::Array, c::Condition)\n",
    "    println(\"launch $(manager.np)\")\n",
    "    for i in 1:manager.np\n",
    "        sockname = tempname()\n",
    "        try\n",
    "            cmd = `$(params[:exename]) udcm.jl $sockname`\n",
    "            io, pobj = open (cmd, \"r\")\n",
    "\n",
    "            wconfig = WorkerConfig()\n",
    "            wconfig.userdata = Dict(:sockname=>sockname, :io=>io, :process=>pobj)\n",
    "            push!(launched, wconfig)\n",
    "            notify(c)\n",
    "        catch e\n",
    "            println(e)\n",
    "        end\n",
    "    end\n",
    "end\n"
   ]
  },
  {
   "cell_type": "code",
   "execution_count": null,
   "metadata": {
    "collapsed": false,
    "slideshow": {
     "slide_type": "fragment"
    }
   },
   "outputs": [],
   "source": [
    "function Base.connect(manager::UnixDomainCM, pid::Int, config::WorkerConfig)\n",
    "    println(\"connect $(myid()) -> $pid\")\n",
    "    if myid() == 1\n",
    "        config.connect_at = get(config.userdata)[:sockname]\n",
    "        io = get(config.userdata)[:io]    \n",
    "        @schedule while !eof(io)\n",
    "            line = readline(io)\n",
    "            print(\"\\tFrom worker $(pid):\\t$line\")\n",
    "        end\n",
    "    else\n",
    "        sockname = get(config.connect_at)\n",
    "        config.userdata = Dict{Symbol, Any}(:sockname=>sockname)\n",
    "    end\n",
    "\n",
    "    t = time()\n",
    "    while true\n",
    "        try\n",
    "            address = get(config.userdata)[:sockname]\n",
    "            sock = connect(ascii(address))\n",
    "            return (sock, sock)\n",
    "        catch e\n",
    "            if (time() - t) > 10.0\n",
    "                rethrow(e)\n",
    "            else\n",
    "                gc()\n",
    "                sleep(0.1)\n",
    "            end\n",
    "        end\n",
    "    end\n",
    "end\n"
   ]
  },
  {
   "cell_type": "code",
   "execution_count": null,
   "metadata": {
    "collapsed": false,
    "slideshow": {
     "slide_type": "fragment"
    }
   },
   "outputs": [],
   "source": [
    "function Base.manage(manager::UnixDomainCM, id::Int, config::WorkerConfig, op)\n",
    "    println(\"manage id $id op $op\")\n",
    "end\n"
   ]
  },
  {
   "cell_type": "code",
   "execution_count": null,
   "metadata": {
    "collapsed": true,
    "slideshow": {
     "slide_type": "fragment"
    }
   },
   "outputs": [],
   "source": [
    "# On the worker\n",
    "function worker_main(sockname)\n",
    "    Base.init_worker(UnixDomainCM(0))\n",
    "\n",
    "    srvr = listen(ascii(sockname))\n",
    "    while true\n",
    "        sock = accept(srvr)\n",
    "        Base.process_messages(sock, sock)  # One task for processing incoming \n",
    "                                           # messages per connection\n",
    "    end\n",
    "end\n",
    "\n",
    "if length(ARGS) > 0 \n",
    "    # script has been launched as a worker\n",
    "    worker_main(ARGS[1])\n",
    "end\n",
    "\n"
   ]
  },
  {
   "cell_type": "code",
   "execution_count": null,
   "metadata": {
    "collapsed": false,
    "slideshow": {
     "slide_type": "fragment"
    }
   },
   "outputs": [],
   "source": [
    "rmprocs(workers())\n",
    "addprocs(UnixDomainCM(4))"
   ]
  },
  {
   "cell_type": "code",
   "execution_count": null,
   "metadata": {
    "collapsed": false
   },
   "outputs": [],
   "source": [
    "rmprocs(workers())"
   ]
  },
  {
   "cell_type": "code",
   "execution_count": null,
   "metadata": {
    "collapsed": true,
    "slideshow": {
     "slide_type": "slide"
    }
   },
   "outputs": [],
   "source": [
    "@enum WorkerState W_CREATED W_CONNECTED W_TERMINATING W_TERMINATED\n",
    "type Worker\n",
    "    id::Int\n",
    "    del_msgs::Array{Any,1}\n",
    "    add_msgs::Array{Any,1}\n",
    "    gcflag::Bool\n",
    "    state::WorkerState\n",
    "    c_state::Condition      # wait for state changes\n",
    "    ct_time::Float64        # creation time\n",
    "\n",
    "    r_stream::AsyncStream\n",
    "    w_stream::AsyncStream\n",
    "    manager::ClusterManager\n",
    "    config::WorkerConfig\n",
    "\n",
    "    function Worker(id, r_stream, w_stream, manager, config)\n",
    "        ....\n",
    "        w.w_stream = buffer_writes(w_stream)\n",
    "        ....\n",
    "    end\n",
    "\n",
    "    ....\n",
    "    \n",
    "    Worker() = Worker(get_next_pid())\n",
    "end\n",
    "\n",
    "Base.PGRP.workers   # Array of workers\n"
   ]
  },
  {
   "cell_type": "code",
   "execution_count": null,
   "metadata": {
    "collapsed": true,
    "slideshow": {
     "slide_type": "slide"
    }
   },
   "outputs": [],
   "source": [
    "type WorkerConfig\n",
    "    # Common fields relevant to all cluster managers\n",
    "    io::Nullable{IO}\n",
    "    host::Nullable{AbstractString}\n",
    "    port::Nullable{Integer}\n",
    "\n",
    "    # Used when launching additional workers at a host\n",
    "    count::Nullable{Union{Int, Symbol}}\n",
    "    exename::Nullable{AbstractString}\n",
    "    exeflags::Nullable{Cmd}\n",
    "\n",
    "    # External cluster managers can use this to store information at a per-worker level\n",
    "    # Can be a dict if multiple fields need to be stored.\n",
    "    userdata::Nullable{Any}\n",
    "\n",
    "    # SSHManager / SSH tunnel connections to workers\n",
    "    tunnel::Nullable{Bool}\n",
    "    bind_addr::Nullable{AbstractString}\n",
    "    sshflags::Nullable{Cmd}\n",
    "    max_parallel::Nullable{Integer}\n",
    "\n",
    "    # Used by Local/SSH managers\n",
    "    connect_at::Nullable{Any}\n",
    "\n",
    "    process::Nullable{Process}\n",
    "    ospid::Nullable{Integer}\n",
    "\n",
    "    # Private dictionary used to store temporary information by Local/SSH managers.\n",
    "    environ::Nullable{Dict}\n",
    "\n",
    "    ....\n",
    "end\n"
   ]
  },
  {
   "cell_type": "markdown",
   "metadata": {
    "slideshow": {
     "slide_type": "slide"
    }
   },
   "source": [
    "- `message_handler_loop` - one task per worker connection\n",
    "\n",
    "\n",
    "| message | action |\n",
    "|---------|---------\n",
    "| `:call` | execute and store result |\n",
    "| `:call_fetch` | execute, send result |\n",
    "| `:call_wait` | execute, notify completion | \n",
    "| `:do` | remote @schedule |\n",
    "| `:result` | recv result from remote |\n",
    "| `:identify_socket` | peer connection from worker |\n",
    "| `:join_pgrp` | connection request from master |\n",
    "| `:join_complete` | worker setup complete |\n",
    "    \n"
   ]
  },
  {
   "cell_type": "markdown",
   "metadata": {
    "slideshow": {
     "slide_type": "skip"
    }
   },
   "source": [
    "<img src=\"files/tasks_in_process.png\">"
   ]
  },
  {
   "cell_type": "markdown",
   "metadata": {
    "slideshow": {
     "slide_type": "slide"
    }
   },
   "source": [
    "##An AWS example"
   ]
  },
  {
   "cell_type": "code",
   "execution_count": null,
   "metadata": {
    "collapsed": false,
    "slideshow": {
     "slide_type": "slide"
    }
   },
   "outputs": [],
   "source": [
    "using AWS.EC2\n",
    "\n",
    "#instances = ec2_launch(\"ami-3b946f50\", \"jublr\"; insttype=\"r3.8xlarge\", n=10, clustername=\"juliacon_demo\")\n",
    "instances = ec2_instances_by_tag (\"ClusterName\", \"juliacon_demo\")\n"
   ]
  },
  {
   "cell_type": "code",
   "execution_count": null,
   "metadata": {
    "collapsed": false,
    "slideshow": {
     "slide_type": "fragment"
    }
   },
   "outputs": [],
   "source": [
    "@time ec2_addprocs(instances, \"/Users/amitm/keys/jublr.pem\";\n",
    "                        dir=\"/home/ubuntu\",\n",
    "                        exename=\"/home/ubuntu/julia/julia\")\n"
   ]
  },
  {
   "cell_type": "code",
   "execution_count": null,
   "metadata": {
    "collapsed": false
   },
   "outputs": [],
   "source": [
    "@time @parallel (+) for i = 1:nworkers()*10^9\n",
    "    Int(rand(Bool))\n",
    "end\n"
   ]
  },
  {
   "cell_type": "code",
   "execution_count": null,
   "metadata": {
    "collapsed": false,
    "slideshow": {
     "slide_type": "fragment"
    }
   },
   "outputs": [],
   "source": [
    "rmprocs(workers())\n",
    "ec2_terminate(instances)"
   ]
  },
  {
   "cell_type": "markdown",
   "metadata": {
    "slideshow": {
     "slide_type": "slide"
    }
   },
   "source": [
    "###MessageUtils.jl\n",
    "\n",
    "- Co-ordinate work between Julia \"services\""
   ]
  },
  {
   "cell_type": "markdown",
   "metadata": {
    "slideshow": {
     "slide_type": "slide"
    }
   },
   "source": [
    "ctasks\n",
    "------\n",
    "- tasks communicate via messages\n",
    "- long running function with two channels\n",
    "    - incoming q\n",
    "    - outbound q\n",
    "- named\n",
    "- local state"
   ]
  },
  {
   "cell_type": "code",
   "execution_count": null,
   "metadata": {
    "collapsed": true,
    "slideshow": {
     "slide_type": "slide"
    }
   },
   "outputs": [],
   "source": [
    "\n",
    "\n",
    "nworkers() < 4 && addprocs(4-nworkers())\n",
    "@everywhere using MessageUtils\n",
    "\n",
    "@everywhere begin\n",
    "    function echo()\n",
    "        while true\n",
    "            put!((:echo, myid(), take!()))\n",
    "        end\n",
    "    end\n",
    "end\n",
    "\n",
    "echo2 = ctask(echo; pid=2, name=\"echo_on_2\");\n",
    "\n"
   ]
  },
  {
   "cell_type": "code",
   "execution_count": null,
   "metadata": {
    "collapsed": false
   },
   "outputs": [],
   "source": [
    "put!(echo2, (\"Hello from 1\",))\n",
    "(\"Hello again!\",) |> echo2\n"
   ]
  },
  {
   "cell_type": "code",
   "execution_count": null,
   "metadata": {
    "collapsed": false,
    "slideshow": {
     "slide_type": "fragment"
    }
   },
   "outputs": [],
   "source": [
    "take!(echo2)"
   ]
  },
  {
   "cell_type": "code",
   "execution_count": null,
   "metadata": {
    "collapsed": false,
    "slideshow": {
     "slide_type": "fragment"
    }
   },
   "outputs": [],
   "source": [
    "remotecall_fetch(3, ct->take!(ct), echo2)"
   ]
  },
  {
   "cell_type": "code",
   "execution_count": null,
   "metadata": {
    "collapsed": false,
    "slideshow": {
     "slide_type": "fragment"
    }
   },
   "outputs": [],
   "source": [
    "@everywhere begin\n",
    "    function store_and_compute()\n",
    "        local v1\n",
    "        local v2\n",
    "\n",
    "        while true\n",
    "            msg = take!()\n",
    "            op = msg[1]\n",
    "            if op == :store\n",
    "                v1 = msg[2]\n",
    "                v2 = msg[3]\n",
    "            elseif op == :generate\n",
    "                n = msg[2]\n",
    "                for i in 1:n\n",
    "                    # write to output channel of current task\n",
    "                    put!((\"from $(myid())\", rand(1:v1), rand(1:v2)))\n",
    "                end\n",
    "            elseif op == :fetch\n",
    "                from_channel = msg[2]    # write to this channel\n",
    "                put!(from_channel, (v1, v2))\n",
    "            elseif op == :multiply_and_fetch\n",
    "                from_channel = msg[2]    # write to this channel\n",
    "                v = msg[3]\n",
    "                put!(from_channel, v1*v2*v)\n",
    "            end\n",
    "        end\n",
    "    end\n",
    "end\n",
    "\n",
    "snc = ctask(store_and_compute; pid=2, name=\"snc\")\n",
    "put!(snc, (:store, 10, 20))\n",
    "put!(snc, (:generate, 5));\n"
   ]
  },
  {
   "cell_type": "code",
   "execution_count": null,
   "metadata": {
    "collapsed": false,
    "slideshow": {
     "slide_type": "fragment"
    }
   },
   "outputs": [],
   "source": [
    "[take!(snc) for i in 1:5]\n",
    "\n"
   ]
  },
  {
   "cell_type": "code",
   "execution_count": null,
   "metadata": {
    "collapsed": false,
    "slideshow": {
     "slide_type": "fragment"
    }
   },
   "outputs": [],
   "source": [
    "chnl = channel()\n",
    "put!(snc, (:fetch, chnl))\n",
    "take!(chnl)\n"
   ]
  },
  {
   "cell_type": "code",
   "execution_count": null,
   "metadata": {
    "collapsed": false,
    "slideshow": {
     "slide_type": "fragment"
    }
   },
   "outputs": [],
   "source": [
    "\n",
    "put!(snc, (:multiply_and_fetch, chnl, 200))\n",
    "remotecall_fetch(3, c->take!(c), chnl)\n"
   ]
  },
  {
   "cell_type": "markdown",
   "metadata": {
    "slideshow": {
     "slide_type": "slide"
    }
   },
   "source": [
    "### Tuple spaces and KV spaces"
   ]
  },
  {
   "cell_type": "code",
   "execution_count": null,
   "metadata": {
    "collapsed": false,
    "slideshow": {
     "slide_type": "slide"
    }
   },
   "outputs": [],
   "source": [
    "\n",
    "\n",
    "rmprocs(workers())\n",
    "addprocs(4)\n",
    "@everywhere using MessageUtils\n",
    "\n",
    "ts = tspace()\n",
    "results_c = channel()\n",
    "\n",
    "@everywhere begin\n",
    "    function process_jobs(ts, key, results_c)\n",
    "        while true\n",
    "            rqst = take!(ts, key)\n",
    "            sleep(rand())\n",
    "            put!(results_c, (myid(), rqst[1]))\n",
    "        end\n",
    "    end\n",
    "end"
   ]
  },
  {
   "cell_type": "code",
   "execution_count": null,
   "metadata": {
    "collapsed": false,
    "slideshow": {
     "slide_type": "fragment"
    }
   },
   "outputs": [],
   "source": [
    "@spawnat 2 process_jobs(ts, \"foo\", results_c)\n",
    "@spawnat 3 process_jobs(ts, \"bar\", results_c)\n",
    "@spawnat 4 process_jobs(ts, r\".*\", results_c)\n",
    "\n",
    "const results=Dict()\n",
    "@async begin\n",
    "    while true\n",
    "        msg = take!(results_c)\n",
    "        respones = get(results, msg[1], [])\n",
    "        results[msg[1]] = push!(respones, msg[2])\n",
    "    end\n",
    "end"
   ]
  },
  {
   "cell_type": "code",
   "execution_count": null,
   "metadata": {
    "collapsed": true,
    "slideshow": {
     "slide_type": "fragment"
    }
   },
   "outputs": [],
   "source": [
    "for i in 1:50\n",
    "    key = rand(Bool) ? \"foo\" : \"bar\"\n",
    "    put!(ts, (key, :some, :data))\n",
    "end\n"
   ]
  },
  {
   "cell_type": "code",
   "execution_count": null,
   "metadata": {
    "collapsed": false,
    "slideshow": {
     "slide_type": "fragment"
    }
   },
   "outputs": [],
   "source": [
    "collect(keys(results))"
   ]
  },
  {
   "cell_type": "code",
   "execution_count": null,
   "metadata": {
    "collapsed": false
   },
   "outputs": [],
   "source": [
    "results[4]"
   ]
  },
  {
   "cell_type": "markdown",
   "metadata": {
    "slideshow": {
     "slide_type": "skip"
    }
   },
   "source": [
    "##MPI Cluster Manager\n",
    "\n",
    "- MPI.jl wraps MPI\n",
    "- includes an MPI cluster manager\n",
    "    - use both MPI-style and Julia-style parallelism\n",
    "    \n",
    "#####code walkthrough"
   ]
  }
 ],
 "metadata": {
  "celltoolbar": "Slideshow",
  "kernelspec": {
   "display_name": "Julia 0.4.0-dev",
   "language": "julia",
   "name": "julia-0.4"
  },
  "language_info": {
   "name": "julia",
   "version": "0.4.0"
  }
 },
 "nbformat": 4,
 "nbformat_minor": 0
}
