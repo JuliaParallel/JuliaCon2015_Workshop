{
 "cells": [
  {
   "cell_type": "markdown",
   "metadata": {
    "slideshow": {
     "slide_type": "slide"
    }
   },
   "source": [
    "#Hadoop & Yarn\n",
    "\n",
    "JuliaCon 2015 Workshop"
   ]
  },
  {
   "cell_type": "markdown",
   "metadata": {
    "slideshow": {
     "slide_type": "subslide"
    }
   },
   "source": [
    "- _This notebook: https://github.com/tanmaykm/juliacon_\n",
    "- _Code: https://gist.github.com/tanmaykm/ec0f34cd74813dd2547a_"
   ]
  },
  {
   "cell_type": "markdown",
   "metadata": {
    "slideshow": {
     "slide_type": "slide"
    }
   },
   "source": [
    "##Installing HDFS / Yarn\n",
    "Setup a toy cluster with docker containers\n",
    "- Install docker (https://www.docker.com/)\n",
    "- JuliaDockerImages - https://github.com/tanmaykm/JuliaDockerImages/tree/master/pkgdists/hadoop\n",
    "    - `git clone https://github.com/tanmaykm/JuliaDockerImages.git`"
   ]
  },
  {
   "cell_type": "markdown",
   "metadata": {
    "slideshow": {
     "slide_type": "fragment"
    }
   },
   "source": [
    "- Download\n",
    "    - `docker pull julialang/hadoop:v0.4.0_build5`\n",
    "    - `docker tag julialang/hadoop:v0.4.0_build5 julialang/hadoop:latest`\n",
    "- or Build\n",
    "    - `docker build -t julialang/julia:v0.4.0 JuliaDockerImages/base/v0.4`\n",
    "    - `docker build -t julialang/hadoop:v0.4.0_build5 JuliaDockerImages/pkgdists/hadoop`\n",
    "    - `docker tag julialang/hadoop:v0.4.0_build5 julialang/hadoop:latest`"
   ]
  },
  {
   "cell_type": "markdown",
   "metadata": {
    "slideshow": {
     "slide_type": "fragment"
    }
   },
   "source": [
    "- Start the cluster\n",
    "    - `cd JuliaDockerImages/pkgdists/hadoop`\n",
    "    - `./cluster.sh start 5`\n",
    "    - creates file `id_rsa` (the ssh key file to the cluster)\n",
    "- Remember to stop the cluster after the workshop!\n",
    "    - `./cluster.sh stop 5`"
   ]
  },
  {
   "cell_type": "code",
   "execution_count": null,
   "metadata": {
    "collapsed": false,
    "slideshow": {
     "slide_type": "slide"
    }
   },
   "outputs": [],
   "source": [
    ";docker ps -a"
   ]
  },
  {
   "cell_type": "markdown",
   "metadata": {
    "slideshow": {
     "slide_type": "slide"
    }
   },
   "source": [
    "##TCP Ports Exposed:\n",
    "- SSH: 22\n",
    "- Yarn\n",
    "    - Resource Manager: 8032\n",
    "    - Scheduler: 8030\n",
    "- HDFS:\n",
    "    - HDFS Client: 9000\n",
    "    - DFS Browser: 50070"
   ]
  },
  {
   "cell_type": "markdown",
   "metadata": {
    "slideshow": {
     "slide_type": "fragment"
    }
   },
   "source": [
    "## Figure out the connections\n",
    "- ssh into the master node and get its IP address\n",
    "- Browse the HDFS datastore:\n",
    "    - Open http://[master]:50070/\n",
    "    - Replace [master] with the IP of the master node"
   ]
  },
  {
   "cell_type": "code",
   "execution_count": null,
   "metadata": {
    "collapsed": false,
    "slideshow": {
     "slide_type": "slide"
    }
   },
   "outputs": [],
   "source": [
    "using Elly\n",
    "\n",
    "# Master IP\n",
    "MASTER_IP = \"172.17.0.58\";\n",
    "\n",
    "# HDFS Client: 9000\n",
    "HDFS_PORT = 9000;\n",
    "# Yarn Resource Manager: 8032\n",
    "YARNRM_PORT = 8032;\n",
    "# Yarn Scheduler: 8030\n",
    "YARNSCHED_PORT = 8030;"
   ]
  },
  {
   "cell_type": "code",
   "execution_count": null,
   "metadata": {
    "collapsed": false,
    "slideshow": {
     "slide_type": "fragment"
    }
   },
   "outputs": [],
   "source": [
    "h = HDFSClient(MASTER_IP, HDFS_PORT)"
   ]
  },
  {
   "cell_type": "code",
   "execution_count": null,
   "metadata": {
    "collapsed": false,
    "slideshow": {
     "slide_type": "fragment"
    }
   },
   "outputs": [],
   "source": [
    "fs_status = hdfs_status(h)"
   ]
  },
  {
   "cell_type": "code",
   "execution_count": null,
   "metadata": {
    "collapsed": false,
    "slideshow": {
     "slide_type": "fragment"
    }
   },
   "outputs": [],
   "source": [
    "# create a folder, write and read a file\n",
    "mkdir(h, \"test\")\n",
    "cd(h, \"test\")\n",
    "\n",
    "# write a file\n",
    "hfile = HDFSFile(h, \"testfile.txt\")\n",
    "open(hfile, \"w\") do fhandle\n",
    "    println(fhandle, \"hello world\")\n",
    "end\n",
    " \n",
    "# read the file\n",
    "open(hfile, \"r\") do fhandle\n",
    "    bytes = Array(UInt8, filesize(fhandle))\n",
    "    read!(fhandle, bytes)\n",
    "    println(bytestring(bytes))\n",
    "end"
   ]
  },
  {
   "cell_type": "code",
   "execution_count": null,
   "metadata": {
    "collapsed": false,
    "slideshow": {
     "slide_type": "fragment"
    }
   },
   "outputs": [],
   "source": [
    "# delete the path and file we created\n",
    "cd(h, \"/\")\n",
    "rm(h, \"test\", true)"
   ]
  }
 ],
 "metadata": {
  "celltoolbar": "Slideshow",
  "kernelspec": {
   "display_name": "Julia 0.4.0-dev",
   "language": "julia",
   "name": "julia 0.4"
  },
  "language_info": {
   "name": "julia",
   "version": "0.4.0"
  }
 },
 "nbformat": 4,
 "nbformat_minor": 0
}
