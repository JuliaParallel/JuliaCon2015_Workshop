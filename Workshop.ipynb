{
 "cells": [
  {
   "cell_type": "markdown",
   "metadata": {
    "slideshow": {
     "slide_type": "slide"
    }
   },
   "source": [
    "###Julia Parallel Workshop\n",
    "######Viral Shah, Tanmay Mohapatra, Eka Palamadai, Amit Murthy"
   ]
  },
  {
   "cell_type": "markdown",
   "metadata": {
    "slideshow": {
     "slide_type": "slide"
    }
   },
   "source": [
    "- The basics\n",
    "    - @sync/@async\n",
    "    - remotecall\n",
    "    - @spawn\n",
    "- Abstractions in parallel computing\n",
    "- Distributed Arrays\n",
    "- MPI\n",
    "- MessageUtils\n",
    "- Hadoop"
   ]
  },
  {
   "cell_type": "markdown",
   "metadata": {
    "slideshow": {
     "slide_type": "slide"
    }
   },
   "source": [
    "\n",
    "\n",
    "\n",
    "###Basics"
   ]
  },
  {
   "cell_type": "code",
   "execution_count": 1,
   "metadata": {
    "collapsed": true,
    "slideshow": {
     "slide_type": "fragment"
    }
   },
   "outputs": [],
   "source": [
    "# Example: parallel I/O\n",
    "using HTTPClient.HTTPC"
   ]
  },
  {
   "cell_type": "code",
   "execution_count": 2,
   "metadata": {
    "collapsed": false,
    "scrolled": true,
    "slideshow": {
     "slide_type": "fragment"
    }
   },
   "outputs": [
    {
     "name": "stdout",
     "output_type": "stream",
     "text": [
      " 365.920 milliseconds (319 k allocations: 13369 KB)\n",
      " 355.011 milliseconds (2031 allocations: 139 KB)\n",
      " 286.999 milliseconds (1602 allocations: 133 KB)\n",
      " 876.839 milliseconds (1873 allocations: 99744 bytes)\n",
      "   2.147 seconds      (770 k allocations: 32970 KB, 0.21% gc time)\n"
     ]
    }
   ],
   "source": [
    "# HTTP GET's executed serially\n",
    "crawls = []\n",
    "@time begin\n",
    "    @time push!(crawls, HTTPC.get(\"http://www.google.com/\"))  \n",
    "    @time push!(crawls, HTTPC.get(\"http://www.julialang.org/\"))  \n",
    "    @time push!(crawls, HTTPC.get(\"http://www.juliacon.org/\"))  \n",
    "    @time push!(crawls, HTTPC.get(\"http://www.juliabox.org/\"))  \n",
    "end;\n"
   ]
  },
  {
   "cell_type": "code",
   "execution_count": 3,
   "metadata": {
    "collapsed": false,
    "slideshow": {
     "slide_type": "fragment"
    }
   },
   "outputs": [
    {
     "data": {
      "text/plain": [
       "5-element Array{Symbol,1}:\n",
       " :body      \n",
       " :headers   \n",
       " :http_code \n",
       " :total_time\n",
       " :bytes_recd"
      ]
     },
     "execution_count": 3,
     "metadata": {},
     "output_type": "execute_result"
    }
   ],
   "source": [
    "# Lets make sure we actually downloaded the web page\n",
    "fieldnames(crawls[1])"
   ]
  },
  {
   "cell_type": "code",
   "execution_count": 4,
   "metadata": {
    "collapsed": false,
    "slideshow": {
     "slide_type": "fragment"
    }
   },
   "outputs": [
    {
     "data": {
      "text/plain": [
       "4-element Array{Int64,1}:\n",
       " 58680\n",
       " 26486\n",
       " 32171\n",
       "  6071"
      ]
     },
     "execution_count": 4,
     "metadata": {},
     "output_type": "execute_result"
    }
   ],
   "source": [
    "Int[x.bytes_recd for x in crawls]"
   ]
  },
  {
   "cell_type": "code",
   "execution_count": 5,
   "metadata": {
    "collapsed": false,
    "slideshow": {
     "slide_type": "fragment"
    }
   },
   "outputs": [
    {
     "name": "stdout",
     "output_type": "stream",
     "text": [
      "  "
     ]
    },
    {
     "data": {
      "text/plain": [
       "0"
      ]
     },
     "execution_count": 5,
     "metadata": {},
     "output_type": "execute_result"
    },
    {
     "name": "stdout",
     "output_type": "stream",
     "text": [
      " 3.856 milliseconds (93 allocations: 8216 bytes)\n"
     ]
    }
   ],
   "source": [
    "# parallel execution of HTTP calls\n",
    "# underlying IO is asynchronous\n",
    "crawls = []\n",
    "@time begin\n",
    "    @async push!(crawls, HTTPC.get(\"http://www.google.com/\"))  \n",
    "    @async push!(crawls, HTTPC.get(\"http://www.julialang.org/\"))  \n",
    "    @async push!(crawls, HTTPC.get(\"http://www.juliacon.org/\"))  \n",
    "    @async push!(crawls, HTTPC.get(\"http://www.juliabox.org/\"))  \n",
    "end;\n",
    "length(crawls)"
   ]
  },
  {
   "cell_type": "code",
   "execution_count": 6,
   "metadata": {
    "collapsed": false,
    "slideshow": {
     "slide_type": "fragment"
    }
   },
   "outputs": [
    {
     "data": {
      "text/plain": [
       "4"
      ]
     },
     "execution_count": 6,
     "metadata": {},
     "output_type": "execute_result"
    }
   ],
   "source": [
    "# We have the data\n",
    "length(crawls)"
   ]
  },
  {
   "cell_type": "code",
   "execution_count": 7,
   "metadata": {
    "collapsed": false,
    "slideshow": {
     "slide_type": "fragment"
    }
   },
   "outputs": [
    {
     "name": "stdout",
     "output_type": "stream",
     "text": [
      " 723.057 milliseconds (17584 allocations: 938 KB)\n",
      "4\n"
     ]
    }
   ],
   "source": [
    "# @sync - Wait for all calls to finish\n",
    "crawls = []\n",
    "@time @sync begin\n",
    "    @async push!(crawls, HTTPC.get(\"http://www.google.com/\"))  \n",
    "    @async push!(crawls, HTTPC.get(\"http://www.julialang.org/\"))  \n",
    "    @async push!(crawls, HTTPC.get(\"http://www.juliacon.org/\"))  \n",
    "    @async push!(crawls, HTTPC.get(\"http://www.juliabox.org/\"))  \n",
    "end;\n",
    "println(length(crawls));"
   ]
  },
  {
   "cell_type": "code",
   "execution_count": null,
   "metadata": {
    "collapsed": false,
    "slideshow": {
     "slide_type": "fragment"
    }
   },
   "outputs": [],
   "source": [
    "# Example : @schedule\n",
    "# does not localize_vars\n",
    "# does not add to @sync block.\n",
    "function foo()\n",
    "    lvar = \"Hello\"\n",
    "    @schedule println(lvar)\n",
    "    lvar = \"World\"\n",
    "    nothing\n",
    "end;\n",
    "\n",
    "function bar()\n",
    "    lvar = \"Hello\"\n",
    "    @async println(lvar)\n",
    "    lvar = \"World\"\n",
    "    nothing\n",
    "end;\n",
    "    "
   ]
  },
  {
   "cell_type": "code",
   "execution_count": null,
   "metadata": {
    "collapsed": false,
    "slideshow": {
     "slide_type": "fragment"
    }
   },
   "outputs": [],
   "source": [
    "foo()"
   ]
  },
  {
   "cell_type": "code",
   "execution_count": null,
   "metadata": {
    "collapsed": false,
    "slideshow": {
     "slide_type": "fragment"
    }
   },
   "outputs": [],
   "source": [
    "bar()"
   ]
  },
  {
   "cell_type": "code",
   "execution_count": null,
   "metadata": {
    "collapsed": false,
    "slideshow": {
     "slide_type": "fragment"
    }
   },
   "outputs": [],
   "source": [
    "rmprocs(workers())\n",
    "addprocs(4)"
   ]
  },
  {
   "cell_type": "code",
   "execution_count": null,
   "metadata": {
    "collapsed": false,
    "slideshow": {
     "slide_type": "fragment"
    }
   },
   "outputs": [],
   "source": [
    "wpid = workers()[1]\n",
    "rr = remotecall(wpid, ()->(sleep(5.0); rand(5,5)))\n",
    "isready(rr)"
   ]
  },
  {
   "cell_type": "code",
   "execution_count": null,
   "metadata": {
    "collapsed": false,
    "slideshow": {
     "slide_type": "fragment"
    }
   },
   "outputs": [],
   "source": [
    "wait(rr);"
   ]
  },
  {
   "cell_type": "code",
   "execution_count": null,
   "metadata": {
    "collapsed": false,
    "slideshow": {
     "slide_type": "fragment"
    }
   },
   "outputs": [],
   "source": [
    "isready(rr)"
   ]
  },
  {
   "cell_type": "code",
   "execution_count": null,
   "metadata": {
    "collapsed": false,
    "slideshow": {
     "slide_type": "fragment"
    }
   },
   "outputs": [],
   "source": [
    "fetch(rr)"
   ]
  },
  {
   "cell_type": "code",
   "execution_count": null,
   "metadata": {
    "collapsed": false,
    "slideshow": {
     "slide_type": "fragment"
    }
   },
   "outputs": [],
   "source": [
    "isready(rr)"
   ]
  },
  {
   "cell_type": "code",
   "execution_count": null,
   "metadata": {
    "collapsed": false,
    "slideshow": {
     "slide_type": "fragment"
    }
   },
   "outputs": [],
   "source": [
    "take!(rr)"
   ]
  },
  {
   "cell_type": "code",
   "execution_count": null,
   "metadata": {
    "collapsed": false,
    "slideshow": {
     "slide_type": "fragment"
    }
   },
   "outputs": [],
   "source": [
    "isready(rr)"
   ]
  },
  {
   "cell_type": "code",
   "execution_count": null,
   "metadata": {
    "collapsed": false,
    "slideshow": {
     "slide_type": "fragment"
    }
   },
   "outputs": [],
   "source": [
    "rr = remotecall_wait(wpid, ()->(sleep(3.0); rand(5,5)))"
   ]
  },
  {
   "cell_type": "code",
   "execution_count": null,
   "metadata": {
    "collapsed": false,
    "slideshow": {
     "slide_type": "fragment"
    }
   },
   "outputs": [],
   "source": [
    "fetch(rr)"
   ]
  },
  {
   "cell_type": "code",
   "execution_count": null,
   "metadata": {
    "collapsed": false,
    "slideshow": {
     "slide_type": "fragment"
    }
   },
   "outputs": [],
   "source": [
    "remotecall_fetch(wpid, ()->(sleep(3.0); rand(5,5)))\n"
   ]
  },
  {
   "cell_type": "code",
   "execution_count": null,
   "metadata": {
    "collapsed": false,
    "slideshow": {
     "slide_type": "fragment"
    }
   },
   "outputs": [],
   "source": [
    "# round-robin over all workers()\n",
    "@spawn println(\"Executing on worker $(myid())\");\n"
   ]
  },
  {
   "cell_type": "code",
   "execution_count": null,
   "metadata": {
    "collapsed": false,
    "slideshow": {
     "slide_type": "fragment"
    }
   },
   "outputs": [],
   "source": [
    "@spawnat wpid println(\"Executing on worker $(myid())\");"
   ]
  },
  {
   "cell_type": "code",
   "execution_count": null,
   "metadata": {
    "collapsed": false,
    "slideshow": {
     "slide_type": "fragment"
    }
   },
   "outputs": [],
   "source": [
    "myvar = pi\n",
    "@everywhere println(myvar)"
   ]
  },
  {
   "cell_type": "code",
   "execution_count": null,
   "metadata": {
    "collapsed": false,
    "slideshow": {
     "slide_type": "fragment"
    }
   },
   "outputs": [],
   "source": [
    "@spawn println(myvar);"
   ]
  },
  {
   "cell_type": "code",
   "execution_count": null,
   "metadata": {
    "collapsed": false
   },
   "outputs": [],
   "source": [
    "# Smaller compute, large iterations\n",
    "@parallel (+) for i in 1:10^8\n",
    "    rand(Bool)\n",
    "end"
   ]
  },
  {
   "cell_type": "code",
   "execution_count": null,
   "metadata": {
    "collapsed": false
   },
   "outputs": [],
   "source": [
    "# Larger compute, smaller iterations\n",
    "@everywhere begin\n",
    "    function mycompute(x)\n",
    "        sleep(rand())\n",
    "        myid()\n",
    "    end\n",
    "end\n",
    "\n",
    "results = pmap(mycompute, [3*rand() for x in 1:20]);\n",
    "transpose(results)"
   ]
  }
 ],
 "metadata": {
  "celltoolbar": "Slideshow",
  "kernelspec": {
   "display_name": "Julia 0.4.0-dev",
   "language": "julia",
   "name": "julia-0.4"
  },
  "language_info": {
   "name": "julia",
   "version": "0.4.0"
  }
 },
 "nbformat": 4,
 "nbformat_minor": 0
}
